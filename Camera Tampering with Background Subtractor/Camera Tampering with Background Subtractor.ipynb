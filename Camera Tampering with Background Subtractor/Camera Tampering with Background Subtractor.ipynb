{
 "cells": [
  {
   "cell_type": "code",
   "execution_count": null,
   "metadata": {},
   "outputs": [],
   "source": [
    "import numpy as np\n",
    "import cv2\n",
    "#Video capturing starts\n",
    "cap = cv2.VideoCapture(1)\n",
    "fgbg = cv2.createBackgroundSubtractorMOG2()\n",
    "ret, frame = cap.read()\n",
    "fgmask = fgbg.apply(frame)\n",
    "kernel = np.ones((5,5), np.uint8)\n",
    "out = cv2.VideoWriter(\n",
    "    'output_tamp.avi',\n",
    "    cv2.VideoWriter_fourcc(*'MJPG'),\n",
    "    15.,\n",
    "    (640,480))\n",
    "while(True):\n",
    "    ret, frame = cap.read()\n",
    "    if(frame is None):\n",
    "        print(\"End of frame\")\n",
    "        break;\n",
    "    else:\n",
    "        a = 0\n",
    "        bounding_rect = []\n",
    "        fgmask = fgbg.apply(frame)\n",
    "        fgmask= cv2.erode(fgmask, kernel, iterations=5) \n",
    "        fgmask = cv2.dilate(fgmask, kernel, iterations = 5)\n",
    "        cv2.imshow('frame',frame)\n",
    "        contours,_ = cv2.findContours(fgmask,cv2.RETR_TREE,cv2.CHAIN_APPROX_SIMPLE)\n",
    "        for i in range(0,len(contours)):\n",
    "            bounding_rect.append(cv2.boundingRect(contours[i]))\n",
    "        for i in range(0,len(contours)):\n",
    "            if bounding_rect[i][2] >=40 or bounding_rect[i][3] >=40:\n",
    "                a = a+(bounding_rect[i][2])*bounding_rect[i][3]\n",
    "            if(a >=int(frame.shape[0])*int(frame.shape[1])/3):\n",
    "                cv2.putText(frame,\"TAMPERING DETECTED\",(5,30),cv2.FONT_HERSHEY_SIMPLEX,1,(0,255,255),2)   \n",
    "            cv2.imshow('frame',frame)\n",
    "        out.write(frame.astype('uint8'))\n",
    "               \n",
    "    k = cv2.waitKey(30) & 0xff\n",
    "    if k == 27:\n",
    "        break\n",
    "#releasing camera and closing all the windows\n",
    "cap.release()\n",
    "out.release()\n",
    "cv2.destroyAllWindows()\n"
   ]
  }
 ],
 "metadata": {
  "kernelspec": {
   "display_name": "Python 3",
   "language": "python",
   "name": "python3"
  },
  "language_info": {
   "codemirror_mode": {
    "name": "ipython",
    "version": 3
   },
   "file_extension": ".py",
   "mimetype": "text/x-python",
   "name": "python",
   "nbconvert_exporter": "python",
   "pygments_lexer": "ipython3",
   "version": "3.8.5"
  }
 },
 "nbformat": 4,
 "nbformat_minor": 4
}
